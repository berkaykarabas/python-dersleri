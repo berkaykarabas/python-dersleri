{
 "cells": [
  {
   "cell_type": "code",
   "execution_count": 1,
   "id": "c60d6c38",
   "metadata": {},
   "outputs": [
    {
     "data": {
      "text/plain": [
       "1"
      ]
     },
     "execution_count": 1,
     "metadata": {},
     "output_type": "execute_result"
    }
   ],
   "source": [
    "123%2"
   ]
  },
  {
   "cell_type": "code",
   "execution_count": 2,
   "id": "0011afe2",
   "metadata": {},
   "outputs": [
    {
     "data": {
      "text/plain": [
       "22"
      ]
     },
     "execution_count": 2,
     "metadata": {},
     "output_type": "execute_result"
    }
   ],
   "source": [
    "44//2"
   ]
  },
  {
   "cell_type": "code",
   "execution_count": 3,
   "id": "6a0823fa",
   "metadata": {},
   "outputs": [
    {
     "data": {
      "text/plain": [
       "1"
      ]
     },
     "execution_count": 3,
     "metadata": {},
     "output_type": "execute_result"
    }
   ],
   "source": [
    "55 % 3\n"
   ]
  },
  {
   "cell_type": "code",
   "execution_count": 4,
   "id": "e9398931",
   "metadata": {},
   "outputs": [
    {
     "ename": "NameError",
     "evalue": "name 'i' is not defined",
     "output_type": "error",
     "traceback": [
      "\u001b[1;31m---------------------------------------------------------------------------\u001b[0m",
      "\u001b[1;31mNameError\u001b[0m                                 Traceback (most recent call last)",
      "Cell \u001b[1;32mIn[4], line 1\u001b[0m\n\u001b[1;32m----> 1\u001b[0m \u001b[38;5;28;01mwhile\u001b[39;00m (\u001b[43mi\u001b[49m\u001b[38;5;241m<\u001b[39m\u001b[38;5;241m101\u001b[39m):\n\u001b[0;32m      2\u001b[0m     \u001b[38;5;28;01mif\u001b[39;00m (i \u001b[38;5;241m%\u001b[39m \u001b[38;5;241m3\u001b[39m \u001b[38;5;241m==\u001b[39m \u001b[38;5;241m0\u001b[39m):\n\u001b[0;32m      3\u001b[0m         \u001b[38;5;28mprint\u001b[39m(i)\n",
      "\u001b[1;31mNameError\u001b[0m: name 'i' is not defined"
     ]
    }
   ],
   "source": [
    "while (i<101):\n",
    "    if (i % 3 == 0):\n",
    "        print(i)"
   ]
  },
  {
   "cell_type": "code",
   "execution_count": 6,
   "id": "2021691e",
   "metadata": {},
   "outputs": [
    {
     "name": "stdout",
     "output_type": "stream",
     "text": [
      "1\n",
      "2\n",
      "3\n",
      "4\n",
      "5\n",
      "6\n",
      "7\n",
      "8\n",
      "9\n",
      "10\n",
      "11\n",
      "12\n",
      "13\n",
      "14\n",
      "15\n",
      "16\n",
      "17\n",
      "18\n",
      "19\n",
      "20\n",
      "21\n",
      "22\n",
      "23\n",
      "24\n",
      "25\n",
      "26\n",
      "27\n",
      "28\n",
      "29\n",
      "30\n",
      "31\n",
      "32\n",
      "33\n",
      "34\n",
      "35\n",
      "36\n",
      "37\n",
      "38\n",
      "39\n",
      "40\n",
      "41\n",
      "42\n",
      "43\n",
      "44\n",
      "45\n",
      "46\n",
      "47\n",
      "48\n",
      "49\n",
      "50\n",
      "51\n",
      "52\n",
      "53\n",
      "54\n",
      "55\n",
      "56\n",
      "57\n",
      "58\n",
      "59\n",
      "60\n",
      "61\n",
      "62\n",
      "63\n",
      "64\n",
      "65\n",
      "66\n",
      "67\n",
      "68\n",
      "69\n",
      "70\n",
      "71\n",
      "72\n",
      "73\n",
      "74\n",
      "75\n",
      "76\n",
      "77\n",
      "78\n",
      "79\n",
      "80\n",
      "81\n",
      "82\n",
      "83\n",
      "84\n",
      "85\n",
      "86\n",
      "87\n",
      "88\n",
      "89\n",
      "90\n",
      "91\n",
      "92\n",
      "93\n",
      "94\n",
      "95\n",
      "96\n",
      "97\n",
      "98\n",
      "99\n",
      "100\n",
      "101\n"
     ]
    }
   ],
   "source": [
    "i=0\n",
    "while (i<101):\n",
    "    (i % 3 == 0)\n",
    "    i+=1\n",
    "    print(i)"
   ]
  },
  {
   "cell_type": "code",
   "execution_count": 7,
   "id": "f27ee487",
   "metadata": {},
   "outputs": [],
   "source": [
    "while (i<101):\n",
    "    if(i % 3 == 0):\n",
    "        print(i)\n",
    "    i+=1"
   ]
  },
  {
   "cell_type": "code",
   "execution_count": 8,
   "id": "478ff5e8",
   "metadata": {},
   "outputs": [],
   "source": [
    "while (i<101):\n",
    "    if(i % 3 == 0):\n",
    "        print(i)\n",
    "        i+=1"
   ]
  },
  {
   "cell_type": "code",
   "execution_count": 9,
   "id": "966f0956",
   "metadata": {},
   "outputs": [
    {
     "name": "stdout",
     "output_type": "stream",
     "text": [
      "0\n"
     ]
    },
    {
     "ename": "KeyboardInterrupt",
     "evalue": "",
     "output_type": "error",
     "traceback": [
      "\u001b[1;31m---------------------------------------------------------------------------\u001b[0m",
      "\u001b[1;31mKeyboardInterrupt\u001b[0m                         Traceback (most recent call last)",
      "Cell \u001b[1;32mIn[9], line 3\u001b[0m\n\u001b[0;32m      1\u001b[0m i\u001b[38;5;241m=\u001b[39m\u001b[38;5;241m0\u001b[39m\n\u001b[0;32m      2\u001b[0m \u001b[38;5;28;01mwhile\u001b[39;00m (i\u001b[38;5;241m<\u001b[39m\u001b[38;5;241m101\u001b[39m):\n\u001b[1;32m----> 3\u001b[0m     \u001b[38;5;28;01mif\u001b[39;00m(\u001b[43mi\u001b[49m\u001b[43m \u001b[49m\u001b[38;5;241;43m%\u001b[39;49m\u001b[43m \u001b[49m\u001b[38;5;241;43m3\u001b[39;49m\u001b[43m \u001b[49m\u001b[38;5;241;43m==\u001b[39;49m\u001b[43m \u001b[49m\u001b[38;5;241;43m0\u001b[39;49m):\n\u001b[0;32m      4\u001b[0m         \u001b[38;5;28mprint\u001b[39m(i)\n\u001b[0;32m      5\u001b[0m         i\u001b[38;5;241m+\u001b[39m\u001b[38;5;241m=\u001b[39m\u001b[38;5;241m1\u001b[39m\n",
      "\u001b[1;31mKeyboardInterrupt\u001b[0m: "
     ]
    }
   ],
   "source": [
    "while (i<101):\n",
    "    if(i % 3 == 0):\n",
    "        print(i)\n",
    "    i+=1"
   ]
  },
  {
   "cell_type": "code",
   "execution_count": null,
   "id": "babc6a60",
   "metadata": {},
   "outputs": [],
   "source": [
    "while (i<101):\n",
    "    if(i % 3 == 0):\n",
    "        print(i)\n",
    "        i+=1\n",
    "    else:\n",
    "        print(i)"
   ]
  },
  {
   "cell_type": "code",
   "execution_count": null,
   "id": "0fb97788",
   "metadata": {},
   "outputs": [],
   "source": [
    "while (i<101):\n",
    "    if(i % 3 == 0):\n",
    "        print(i)\n",
    "        i+=1\n",
    "    else:\n",
    "        print(i)"
   ]
  },
  {
   "cell_type": "code",
   "execution_count": null,
   "id": "9e124c31",
   "metadata": {},
   "outputs": [],
   "source": [
    "for i in range(1,101):\n",
    "    if (i%3==0):\n",
    "        print(i)\n",
    "    else:\n",
    "    continue"
   ]
  },
  {
   "cell_type": "code",
   "execution_count": null,
   "id": "a01e437b",
   "metadata": {},
   "outputs": [],
   "source": [
    "i=0\n",
    "for i in range(1,101):\n",
    "    if (i%3==0):\n",
    "        print(i)"
   ]
  },
  {
   "cell_type": "code",
   "execution_count": 10,
   "id": "fae30386",
   "metadata": {},
   "outputs": [
    {
     "name": "stdout",
     "output_type": "stream",
     "text": [
      "3\n",
      "6\n",
      "9\n",
      "12\n",
      "15\n",
      "18\n",
      "21\n",
      "24\n",
      "27\n",
      "30\n",
      "33\n",
      "36\n",
      "39\n",
      "42\n",
      "45\n",
      "48\n",
      "51\n",
      "54\n",
      "57\n",
      "60\n",
      "63\n",
      "66\n",
      "69\n",
      "72\n",
      "75\n",
      "78\n",
      "81\n",
      "84\n",
      "87\n",
      "90\n",
      "93\n",
      "96\n",
      "99\n"
     ]
    }
   ],
   "source": [
    "for i in range(1,101):\n",
    "    if (i%3==0):\n",
    "        print(i)"
   ]
  },
  {
   "cell_type": "code",
   "execution_count": 11,
   "id": "6e5e7d01",
   "metadata": {},
   "outputs": [
    {
     "data": {
      "text/plain": [
       "3"
      ]
     },
     "execution_count": 11,
     "metadata": {},
     "output_type": "execute_result"
    }
   ],
   "source": [
    "14//4\n"
   ]
  },
  {
   "cell_type": "code",
   "execution_count": 12,
   "id": "4ed99285",
   "metadata": {},
   "outputs": [],
   "source": [
    "liste=[1,2,3,4,5]"
   ]
  },
  {
   "cell_type": "code",
   "execution_count": 13,
   "id": "f049cc33",
   "metadata": {},
   "outputs": [],
   "source": [
    "liste.append(6)"
   ]
  },
  {
   "cell_type": "code",
   "execution_count": 14,
   "id": "dd0eaa98",
   "metadata": {},
   "outputs": [
    {
     "name": "stdout",
     "output_type": "stream",
     "text": [
      "[1, 2, 3, 4, 5, 6]\n"
     ]
    }
   ],
   "source": [
    "print(liste)"
   ]
  },
  {
   "cell_type": "code",
   "execution_count": 15,
   "id": "d10f7c4b",
   "metadata": {},
   "outputs": [],
   "source": [
    "sözlük=dict()"
   ]
  },
  {
   "cell_type": "code",
   "execution_count": 16,
   "id": "c2eb8e68",
   "metadata": {},
   "outputs": [
    {
     "data": {
      "text/plain": [
       "dict"
      ]
     },
     "execution_count": 16,
     "metadata": {},
     "output_type": "execute_result"
    }
   ],
   "source": [
    "type(sözlük)"
   ]
  },
  {
   "cell_type": "code",
   "execution_count": 17,
   "id": "13907ef5",
   "metadata": {},
   "outputs": [],
   "source": [
    "def topla(a,b):\n",
    "    return a+b"
   ]
  },
  {
   "cell_type": "code",
   "execution_count": 18,
   "id": "2b66542c",
   "metadata": {},
   "outputs": [
    {
     "data": {
      "text/plain": [
       "<function __main__.topla(a, b)>"
      ]
     },
     "execution_count": 18,
     "metadata": {},
     "output_type": "execute_result"
    }
   ],
   "source": [
    "topla"
   ]
  },
  {
   "cell_type": "code",
   "execution_count": 19,
   "id": "c926573e",
   "metadata": {},
   "outputs": [
    {
     "name": "stdout",
     "output_type": "stream",
     "text": [
      "9\n"
     ]
    }
   ],
   "source": [
    "print(topla(3,6))"
   ]
  },
  {
   "cell_type": "code",
   "execution_count": 20,
   "id": "d7374580",
   "metadata": {},
   "outputs": [],
   "source": [
    "class Araba():\n",
    "    model = \"Renault Megane\"\n",
    "    renk = \"Gümüş\"\n",
    "    beygir_gücü = 110\n",
    "    silindir = 4"
   ]
  },
  {
   "cell_type": "code",
   "execution_count": 21,
   "id": "dfa3052a",
   "metadata": {},
   "outputs": [
    {
     "data": {
      "text/plain": [
       "'Renault Megane'"
      ]
     },
     "execution_count": 21,
     "metadata": {},
     "output_type": "execute_result"
    }
   ],
   "source": [
    "Araba.model"
   ]
  },
  {
   "cell_type": "code",
   "execution_count": 22,
   "id": "9730be28",
   "metadata": {},
   "outputs": [
    {
     "data": {
      "text/plain": [
       "'Gümüş'"
      ]
     },
     "execution_count": 22,
     "metadata": {},
     "output_type": "execute_result"
    }
   ],
   "source": [
    "Araba.renk"
   ]
  },
  {
   "cell_type": "code",
   "execution_count": 23,
   "id": "499be07f",
   "metadata": {},
   "outputs": [],
   "source": [
    "araba1=Araba()"
   ]
  },
  {
   "cell_type": "code",
   "execution_count": 24,
   "id": "6784830a",
   "metadata": {},
   "outputs": [
    {
     "data": {
      "text/plain": [
       "<__main__.Araba at 0x1ad1ca91180>"
      ]
     },
     "execution_count": 24,
     "metadata": {},
     "output_type": "execute_result"
    }
   ],
   "source": [
    "araba1"
   ]
  },
  {
   "cell_type": "code",
   "execution_count": 25,
   "id": "3dd2c1d9",
   "metadata": {},
   "outputs": [
    {
     "data": {
      "text/plain": [
       "'Gümüş'"
      ]
     },
     "execution_count": 25,
     "metadata": {},
     "output_type": "execute_result"
    }
   ],
   "source": [
    "araba1.renk"
   ]
  },
  {
   "cell_type": "code",
   "execution_count": 26,
   "id": "9bcfd34f",
   "metadata": {},
   "outputs": [
    {
     "data": {
      "text/plain": [
       "['__class__',\n",
       " '__delattr__',\n",
       " '__dict__',\n",
       " '__dir__',\n",
       " '__doc__',\n",
       " '__eq__',\n",
       " '__format__',\n",
       " '__ge__',\n",
       " '__getattribute__',\n",
       " '__gt__',\n",
       " '__hash__',\n",
       " '__init__',\n",
       " '__init_subclass__',\n",
       " '__le__',\n",
       " '__lt__',\n",
       " '__module__',\n",
       " '__ne__',\n",
       " '__new__',\n",
       " '__reduce__',\n",
       " '__reduce_ex__',\n",
       " '__repr__',\n",
       " '__setattr__',\n",
       " '__sizeof__',\n",
       " '__str__',\n",
       " '__subclasshook__',\n",
       " '__weakref__',\n",
       " 'beygir_gücü',\n",
       " 'model',\n",
       " 'renk',\n",
       " 'silindir']"
      ]
     },
     "execution_count": 26,
     "metadata": {},
     "output_type": "execute_result"
    }
   ],
   "source": [
    "dir(araba1)"
   ]
  },
  {
   "cell_type": "code",
   "execution_count": 27,
   "id": "ee5fd03e",
   "metadata": {},
   "outputs": [],
   "source": [
    "class Araba():\n",
    "    model = \"Renault Megane\"\n",
    "    renk = \"Gümüş\"\n",
    "    beygir_gücü = 110\n",
    "    silindir = 4\n",
    "    def __init__(self):\n",
    "        print(\"init fonksiyonu çağırıldı.\")"
   ]
  },
  {
   "cell_type": "code",
   "execution_count": 28,
   "id": "a6ac741a",
   "metadata": {},
   "outputs": [
    {
     "name": "stdout",
     "output_type": "stream",
     "text": [
      "init fonksiyonu çağırıldı.\n"
     ]
    }
   ],
   "source": [
    "araba1=Araba()"
   ]
  },
  {
   "cell_type": "code",
   "execution_count": 29,
   "id": "dd5682c1",
   "metadata": {},
   "outputs": [],
   "source": [
    "class Araba():\n",
    "    \n",
    "    def __init__(self,model = \"Bilgi Yok\",renk = \"Bilgi Yok\",beygir_gücü = 70,silindir = 4):\n",
    "        print(\"init fonksiyonu çağrıldı\")\n",
    "        self.model = model\n",
    "        self.renk = renk\n",
    "        self.beygir_gücü = beygir_gücü\n",
    "        self.silindir = silindir"
   ]
  },
  {
   "cell_type": "code",
   "execution_count": 30,
   "id": "669afaac",
   "metadata": {},
   "outputs": [
    {
     "name": "stdout",
     "output_type": "stream",
     "text": [
      "init fonksiyonu çağrıldı\n"
     ]
    }
   ],
   "source": [
    "araba1=Araba()"
   ]
  },
  {
   "cell_type": "code",
   "execution_count": 31,
   "id": "fc28f2ae",
   "metadata": {},
   "outputs": [
    {
     "ename": "TypeError",
     "evalue": "'Araba' object is not callable",
     "output_type": "error",
     "traceback": [
      "\u001b[1;31m---------------------------------------------------------------------------\u001b[0m",
      "\u001b[1;31mTypeError\u001b[0m                                 Traceback (most recent call last)",
      "Cell \u001b[1;32mIn[31], line 1\u001b[0m\n\u001b[1;32m----> 1\u001b[0m \u001b[43maraba1\u001b[49m\u001b[43m(\u001b[49m\u001b[43mmodel\u001b[49m\u001b[38;5;241;43m=\u001b[39;49m\u001b[38;5;124;43m'\u001b[39;49m\u001b[38;5;124;43mberkay\u001b[39;49m\u001b[38;5;124;43m'\u001b[39;49m\u001b[43m)\u001b[49m\n",
      "\u001b[1;31mTypeError\u001b[0m: 'Araba' object is not callable"
     ]
    }
   ],
   "source": [
    "araba1(model='berkay')"
   ]
  },
  {
   "cell_type": "code",
   "execution_count": 32,
   "id": "0c407eaf",
   "metadata": {},
   "outputs": [
    {
     "name": "stdout",
     "output_type": "stream",
     "text": [
      "init fonksiyonu çağrıldı\n"
     ]
    }
   ],
   "source": [
    "araba1=Araba(model='berkay')"
   ]
  },
  {
   "cell_type": "code",
   "execution_count": 33,
   "id": "40071f33",
   "metadata": {},
   "outputs": [
    {
     "data": {
      "text/plain": [
       "'berkay'"
      ]
     },
     "execution_count": 33,
     "metadata": {},
     "output_type": "execute_result"
    }
   ],
   "source": [
    "araba1.model"
   ]
  },
  {
   "cell_type": "code",
   "execution_count": 34,
   "id": "e4e04d6a",
   "metadata": {},
   "outputs": [
    {
     "ename": "AttributeError",
     "evalue": "type object 'Araba' has no attribute 'model'",
     "output_type": "error",
     "traceback": [
      "\u001b[1;31m---------------------------------------------------------------------------\u001b[0m",
      "\u001b[1;31mAttributeError\u001b[0m                            Traceback (most recent call last)",
      "Cell \u001b[1;32mIn[34], line 1\u001b[0m\n\u001b[1;32m----> 1\u001b[0m \u001b[43mAraba\u001b[49m\u001b[38;5;241;43m.\u001b[39;49m\u001b[43mmodel\u001b[49m\n",
      "\u001b[1;31mAttributeError\u001b[0m: type object 'Araba' has no attribute 'model'"
     ]
    }
   ],
   "source": [
    "Araba.model"
   ]
  },
  {
   "cell_type": "code",
   "execution_count": 35,
   "id": "84ea5f9c",
   "metadata": {},
   "outputs": [
    {
     "name": "stdout",
     "output_type": "stream",
     "text": [
      "init fonksiyonu çağrıldı\n"
     ]
    }
   ],
   "source": [
    "araba1=Araba('Toyota','Gümüş',99,4)"
   ]
  },
  {
   "cell_type": "code",
   "execution_count": 36,
   "id": "79b56138",
   "metadata": {},
   "outputs": [
    {
     "name": "stdout",
     "output_type": "stream",
     "text": [
      "init fonksiyonu çağrıldı\n"
     ]
    }
   ],
   "source": [
    "araba2=Araba('Renoult','Mavi',120,4)"
   ]
  },
  {
   "cell_type": "code",
   "execution_count": 37,
   "id": "1fbfb43d",
   "metadata": {},
   "outputs": [],
   "source": [
    "class yazilimci():\n",
    "    def __init__(self,isim,soyisim,numara,maaş,bildiği_diller):\n",
    "        self.isim=isim"
   ]
  },
  {
   "cell_type": "code",
   "execution_count": 38,
   "id": "15be0e79",
   "metadata": {},
   "outputs": [],
   "source": [
    "class yazilimci():\n",
    "    def __init__(self,isim,soyisim,numara,maaş,bildiği_diller):\n",
    "        self.isim=isim\n",
    "        self.soyisim=soyisim"
   ]
  },
  {
   "cell_type": "code",
   "execution_count": 39,
   "id": "c296faac",
   "metadata": {},
   "outputs": [],
   "source": [
    "class yazilimci():\n",
    "    def __init__(self,isim,soyisim,numara,maaş,bildiği_diller):\n",
    "        self.isim=isim\n",
    "        self.soyisim=soyisim\n",
    "        self.numara=numara\n",
    "        self.maaş=maaş"
   ]
  },
  {
   "cell_type": "code",
   "execution_count": 40,
   "id": "d89f151c",
   "metadata": {},
   "outputs": [],
   "source": [
    "class yazilimci():\n",
    "    def __init__(self,isim,soyisim,numara,maaş,bildiği_diller):\n",
    "        self.isim=isim\n",
    "        self.soyisim=soyisim\n",
    "        self.numara=numara\n",
    "        self.maaş=maaş\n",
    "        self.bildiği_diller=bildiği_diller"
   ]
  },
  {
   "cell_type": "code",
   "execution_count": 52,
   "id": "c6fbf78f",
   "metadata": {},
   "outputs": [],
   "source": [
    "class yazilimci():\n",
    "    def __init__(self,isim,soyisim,numara,maaş,bildiği_diller):\n",
    "        self.isim=isim\n",
    "        self.soyisim=soyisim\n",
    "        self.numara=numara\n",
    "        self.maaş=maaş\n",
    "        self.bildiği_diller=bildiği_diller\n",
    "    def bilgilerigöster(self):\n",
    "        print(\"\"\"\n",
    "        Yazılımcıların bilgileri\n",
    "        isim: {}\n",
    "        soyisim: {}\n",
    "        numara: {}\n",
    "        maaş: {}\n",
    "        Bildiği Diller: {}\n",
    "        \"\"\".format(self.isim,self.soyisim,self.numara,self.maaş,self.bildiği_diller))\n",
    "    def zammik(self,zam_miktari):\n",
    "        print(\"zam yapılıyor...\")\n",
    "        self.maaş += zam_miktari\n",
    "    def dilekle(self,yenidil):\n",
    "        print(\"dil ekleniyor\")\n",
    "        self.bildiği_diller.append(yenidil)"
   ]
  },
  {
   "cell_type": "code",
   "execution_count": 53,
   "id": "1bb544b7",
   "metadata": {},
   "outputs": [],
   "source": [
    "yazılımcı=yazilimci(\"Berkay\",\"KARABAŞ\",\"137\",15600,[\"python\",\"java\",\"c++\",\"c#\"])"
   ]
  },
  {
   "cell_type": "code",
   "execution_count": 43,
   "id": "b699f07d",
   "metadata": {},
   "outputs": [
    {
     "data": {
      "text/plain": [
       "<bound method yazilimci.bilgilerigöster of <__main__.yazilimci object at 0x000001AD1D56B2B0>>"
      ]
     },
     "execution_count": 43,
     "metadata": {},
     "output_type": "execute_result"
    }
   ],
   "source": [
    "yazılımcı.bilgilerigöster"
   ]
  },
  {
   "cell_type": "code",
   "execution_count": 44,
   "id": "b7eda429",
   "metadata": {},
   "outputs": [
    {
     "name": "stdout",
     "output_type": "stream",
     "text": [
      "\n",
      "        Yazılımcıların bilgileri\n",
      "        isim: Berkay\n",
      "        soyisim: KARABAŞ\n",
      "        numara: 137\n",
      "        maaş: 15600\n",
      "        Bildiği Diller: python\n",
      "        \n"
     ]
    }
   ],
   "source": [
    "yazılımcı.bilgilerigöster()"
   ]
  },
  {
   "cell_type": "code",
   "execution_count": 47,
   "id": "bd0d3b18",
   "metadata": {},
   "outputs": [
    {
     "name": "stdout",
     "output_type": "stream",
     "text": [
      "dil ekleniyor\n"
     ]
    }
   ],
   "source": [
    "yazılımcı.dilekle(\"golang\")"
   ]
  },
  {
   "cell_type": "code",
   "execution_count": 48,
   "id": "3feabc3b",
   "metadata": {},
   "outputs": [
    {
     "name": "stdout",
     "output_type": "stream",
     "text": [
      "\n",
      "        Yazılımcıların bilgileri\n",
      "        isim: Berkay\n",
      "        soyisim: KARABAŞ\n",
      "        numara: 137\n",
      "        maaş: 15600\n",
      "        Bildiği Diller: ['python', 'java', 'c++', 'c#', 'golang']\n",
      "        \n"
     ]
    }
   ],
   "source": [
    "yazılımcı.bilgilerigöster()"
   ]
  },
  {
   "cell_type": "code",
   "execution_count": 54,
   "id": "5b1f54d5",
   "metadata": {},
   "outputs": [
    {
     "name": "stdout",
     "output_type": "stream",
     "text": [
      "zam yapılıyor...\n"
     ]
    }
   ],
   "source": [
    "yazılımcı.zammik(1000)"
   ]
  },
  {
   "cell_type": "code",
   "execution_count": 55,
   "id": "2968c00c",
   "metadata": {},
   "outputs": [
    {
     "name": "stdout",
     "output_type": "stream",
     "text": [
      "\n",
      "        Yazılımcıların bilgileri\n",
      "        isim: Berkay\n",
      "        soyisim: KARABAŞ\n",
      "        numara: 137\n",
      "        maaş: 16600\n",
      "        Bildiği Diller: ['python', 'java', 'c++', 'c#']\n",
      "        \n"
     ]
    }
   ],
   "source": [
    "yazılımcı.bilgilerigöster()"
   ]
  },
  {
   "cell_type": "code",
   "execution_count": 56,
   "id": "bded36aa",
   "metadata": {},
   "outputs": [],
   "source": [
    "class Kitap():\n",
    "    pass\n"
   ]
  },
  {
   "cell_type": "code",
   "execution_count": 57,
   "id": "f94b2766",
   "metadata": {},
   "outputs": [],
   "source": [
    "kitap=Kitap()"
   ]
  },
  {
   "cell_type": "code",
   "execution_count": 58,
   "id": "0ea4a5ed",
   "metadata": {},
   "outputs": [
    {
     "name": "stdout",
     "output_type": "stream",
     "text": [
      "<__main__.Kitap object at 0x000001AD1D5D4400>\n"
     ]
    }
   ],
   "source": [
    "print(kitap)"
   ]
  },
  {
   "cell_type": "code",
   "execution_count": 59,
   "id": "b8ab0603",
   "metadata": {},
   "outputs": [],
   "source": [
    "del kitap"
   ]
  },
  {
   "cell_type": "code",
   "execution_count": 60,
   "id": "4e59426b",
   "metadata": {},
   "outputs": [
    {
     "ename": "NameError",
     "evalue": "name 'kitap' is not defined",
     "output_type": "error",
     "traceback": [
      "\u001b[1;31m---------------------------------------------------------------------------\u001b[0m",
      "\u001b[1;31mNameError\u001b[0m                                 Traceback (most recent call last)",
      "Cell \u001b[1;32mIn[60], line 1\u001b[0m\n\u001b[1;32m----> 1\u001b[0m \u001b[43mkitap\u001b[49m\n",
      "\u001b[1;31mNameError\u001b[0m: name 'kitap' is not defined"
     ]
    }
   ],
   "source": [
    "kitap"
   ]
  },
  {
   "cell_type": "code",
   "execution_count": 61,
   "id": "96885455",
   "metadata": {},
   "outputs": [],
   "source": [
    "class Kitap():\n",
    "    def __init__(self,isim,yazar,sayfa_sayısı,tur):\n",
    "        print(\"init fonksiyonu\")\n",
    "        self.isim=isim"
   ]
  },
  {
   "cell_type": "code",
   "execution_count": 62,
   "id": "a91522bd",
   "metadata": {},
   "outputs": [],
   "source": [
    "class Kitap():\n",
    "    def __init__(self,isim,yazar,sayfa_sayısı,tur):\n",
    "        print(\"init fonksiyonu\")\n",
    "        self.isim=isim\n",
    "        self.yazar=yazar\n",
    "        self.sayfa_sayısı=sayfa_sayısı\n",
    "        self.tur=tur"
   ]
  },
  {
   "cell_type": "code",
   "execution_count": 64,
   "id": "555c2be7",
   "metadata": {},
   "outputs": [
    {
     "name": "stdout",
     "output_type": "stream",
     "text": [
      "init fonksiyonu\n"
     ]
    }
   ],
   "source": [
    "kitap=Kitap(\"içindeki devi uyandır\",\"Anthony Robbins\",454,\"Kişisel Gelişim\")"
   ]
  },
  {
   "cell_type": "code",
   "execution_count": 65,
   "id": "c1242758",
   "metadata": {},
   "outputs": [
    {
     "ename": "SyntaxError",
     "evalue": "invalid syntax (2046379036.py, line 8)",
     "output_type": "error",
     "traceback": [
      "\u001b[1;36m  Cell \u001b[1;32mIn[65], line 8\u001b[1;36m\u001b[0m\n\u001b[1;33m    def__str__(self):\u001b[0m\n\u001b[1;37m                    ^\u001b[0m\n\u001b[1;31mSyntaxError\u001b[0m\u001b[1;31m:\u001b[0m invalid syntax\n"
     ]
    }
   ],
   "source": [
    "class Kitap():\n",
    "    def __init__(self,isim,yazar,sayfa_sayısı,tur):\n",
    "        print(\"init fonksiyonu\")\n",
    "        self.isim=isim\n",
    "        self.yazar=yazar\n",
    "        self.sayfa_sayısı=sayfa_sayısı\n",
    "        self.tur=tur\n",
    "    def__str__(self):\n",
    "        return \"İsim:{}\\nYazar:\\nSayfa Sayısı:\\nTürü:{}\".format(self.isim,self.yazar,self.sayfa_sayısı,self.tur)"
   ]
  },
  {
   "cell_type": "code",
   "execution_count": 66,
   "id": "0c4ec20f",
   "metadata": {},
   "outputs": [
    {
     "ename": "SyntaxError",
     "evalue": "invalid syntax (2796552507.py, line 1)",
     "output_type": "error",
     "traceback": [
      "\u001b[1;36m  Cell \u001b[1;32mIn[66], line 1\u001b[1;36m\u001b[0m\n\u001b[1;33m    lass Kitap():\u001b[0m\n\u001b[1;37m         ^\u001b[0m\n\u001b[1;31mSyntaxError\u001b[0m\u001b[1;31m:\u001b[0m invalid syntax\n"
     ]
    }
   ],
   "source": [
    "lass Kitap():\n",
    "    def __init__(self,isim,yazar,sayfa_sayısı,tur):\n",
    "        print(\"init fonksiyonu\")\n",
    "        self.isim=isim\n",
    "        self.yazar=ylass Kitap():\n",
    "    def __init__(self,isim,yazar,sayfa_sayısı,tur):\n",
    "        print(\"init fonksiyonu\")\n",
    "        self.isim=isim\n",
    "        self.yazar=yazar\n",
    "        self.sayfa_sayısı=sayfa_sayısı\n",
    "        self.tur=tur\n",
    "    def__str__(self):\n",
    "        return \"İsim:{}\\nYazar:\\nSayfa Sayısı:\\nTürü:{}\".format(self.isim,self.yazar,self.sayfa_sayısı,self.tur)azar\n",
    "        self.sayfa_sayısı=sayfa_sayısı\n",
    "        self.tur=tur\n",
    "    def __str__(self):\n",
    "        return \"İsim:{}\\nYazar:\\nSayfa Sayısı:\\nTürü:{}\".format(self.isim,self.yazar,self.sayfa_sayısı,self.tur)"
   ]
  },
  {
   "cell_type": "code",
   "execution_count": 67,
   "id": "5b9879ee",
   "metadata": {},
   "outputs": [
    {
     "ename": "SyntaxError",
     "evalue": "invalid syntax (2046379036.py, line 8)",
     "output_type": "error",
     "traceback": [
      "\u001b[1;36m  Cell \u001b[1;32mIn[67], line 8\u001b[1;36m\u001b[0m\n\u001b[1;33m    def__str__(self):\u001b[0m\n\u001b[1;37m                    ^\u001b[0m\n\u001b[1;31mSyntaxError\u001b[0m\u001b[1;31m:\u001b[0m invalid syntax\n"
     ]
    }
   ],
   "source": [
    "class Kitap():\n",
    "    def __init__(self,isim,yazar,sayfa_sayısı,tur):\n",
    "        print(\"init fonksiyonu\")\n",
    "        self.isim=isim\n",
    "        self.yazar=yazar\n",
    "        self.sayfa_sayısı=sayfa_sayısı\n",
    "        self.tur=tur\n",
    "    def__str__(self):\n",
    "        return \"İsim:{}\\nYazar:\\nSayfa Sayısı:\\nTürü:{}\".format(self.isim,self.yazar,self.sayfa_sayısı,self.tur)"
   ]
  },
  {
   "cell_type": "code",
   "execution_count": 4,
   "id": "277eb8ca",
   "metadata": {},
   "outputs": [],
   "source": [
    "class Kitap():\n",
    "    def __init__(self,isim,yazar,sayfa_sayısı,tur):\n",
    "        print(\"init fonksiyonu\")\n",
    "        self.isim=isim\n",
    "        self.yazar=yazar\n",
    "        self.sayfa_sayısı=sayfa_sayısı\n",
    "        self.tur=tur\n",
    "    def __str__(self):\n",
    "        return \"İsim: {}\\nYazar:{}\\nSayfa Sayısı:{}\\nTürü:{}\".format(self.isim,self.yazar,self.sayfa_sayısı,self.tur)"
   ]
  },
  {
   "cell_type": "code",
   "execution_count": 5,
   "id": "60a9f814",
   "metadata": {},
   "outputs": [
    {
     "name": "stdout",
     "output_type": "stream",
     "text": [
      "init fonksiyonu\n"
     ]
    }
   ],
   "source": [
    "kitap=Kitap(\"içindeki devi uyandır\",\"Anthony Robbins\",454,\"Kişisel Gelişim\")"
   ]
  },
  {
   "cell_type": "code",
   "execution_count": 6,
   "id": "b686211a",
   "metadata": {},
   "outputs": [
    {
     "name": "stdout",
     "output_type": "stream",
     "text": [
      "İsim: içindeki devi uyandır\n",
      "Yazar:Anthony Robbins\n",
      "Sayfa Sayısı:454\n",
      "Türü:Kişisel Gelişim\n"
     ]
    }
   ],
   "source": [
    "print(kitap)"
   ]
  },
  {
   "cell_type": "code",
   "execution_count": 9,
   "id": "b1df03ba",
   "metadata": {},
   "outputs": [],
   "source": [
    "class Kitap():\n",
    "    def __init__(self,isim,yazar,sayfa_sayısı,tur):\n",
    "        print(\"init fonksiyonu\")\n",
    "        self.isim=isim\n",
    "        self.yazar=yazar\n",
    "        self.sayfa_sayısı=sayfa_sayısı\n",
    "        self.tur=tur\n",
    "    def __str__(self):\n",
    "        return \"İsim: {}\\nYazar:{}\\nSayfa Sayısı:{}\\nTürü:{}\".format(self.isim,self.yazar,self.sayfa_sayısı,self.tur)\n",
    "    def __len__(self):\n",
    "        return self.sayfa_sayısı"
   ]
  },
  {
   "cell_type": "code",
   "execution_count": 11,
   "id": "9999f306",
   "metadata": {},
   "outputs": [
    {
     "name": "stdout",
     "output_type": "stream",
     "text": [
      "init fonksiyonu\n"
     ]
    }
   ],
   "source": [
    "kitap=Kitap(\"içindeki devi uyandır\",\"Anthony Robbins\",454,\"Kişisel Gelişim\")"
   ]
  },
  {
   "cell_type": "code",
   "execution_count": 12,
   "id": "329175d8",
   "metadata": {},
   "outputs": [
    {
     "data": {
      "text/plain": [
       "454"
      ]
     },
     "execution_count": 12,
     "metadata": {},
     "output_type": "execute_result"
    }
   ],
   "source": [
    "len(kitap)"
   ]
  },
  {
   "cell_type": "code",
   "execution_count": 13,
   "id": "97ac068e",
   "metadata": {},
   "outputs": [],
   "source": [
    "class Kitap():\n",
    "    def __init__(self,isim,yazar,sayfa_sayısı,tur):\n",
    "        print(\"init fonksiyonu\")\n",
    "        self.isim=isim\n",
    "        self.yazar=yazar\n",
    "        self.sayfa_sayısı=sayfa_sayısı\n",
    "        self.tur=tur\n",
    "    def __str__(self):\n",
    "        return \"İsim: {}\\nYazar:{}\\nSayfa Sayısı:{}\\nTürü:{}\".format(self.isim,self.yazar,self.sayfa_sayısı,self.tur)\n",
    "    def __len__(self):\n",
    "        return self.sayfa_sayısı\n",
    "    def __del__(self):\n",
    "        print(\"Kİtap objesi siliniyor...\")"
   ]
  },
  {
   "cell_type": "code",
   "execution_count": 14,
   "id": "ce368a09",
   "metadata": {},
   "outputs": [],
   "source": [
    "del kitap"
   ]
  },
  {
   "cell_type": "code",
   "execution_count": 15,
   "id": "a2806fff",
   "metadata": {},
   "outputs": [],
   "source": [
    "class Kitap():\n",
    "    def __init__(self,isim,yazar,sayfa_sayısı,tur):\n",
    "        print(\"init fonksiyonu\")\n",
    "        self.isim=isim\n",
    "        self.yazar=yazar\n",
    "        self.sayfa_sayısı=sayfa_sayısı\n",
    "        self.tur=tur\n",
    "    def __str__(self):\n",
    "        return \"İsim: {}\\nYazar:{}\\nSayfa Sayısı:{}\\nTürü:{}\".format(self.isim,self.yazar,self.sayfa_sayısı,self.tur)\n",
    "    def __len__(self):\n",
    "        return self.sayfa_sayısı\n",
    "    def __del__(self):\n",
    "        print(\"Kİtap objesi siliniyor...\")"
   ]
  },
  {
   "cell_type": "code",
   "execution_count": 16,
   "id": "90082ef7",
   "metadata": {},
   "outputs": [
    {
     "name": "stdout",
     "output_type": "stream",
     "text": [
      "init fonksiyonu\n"
     ]
    }
   ],
   "source": [
    "kitap=Kitap(\"içindeki devi uyandır\",\"Anthony Robbins\",454,\"Kişisel Gelişim\")"
   ]
  },
  {
   "cell_type": "code",
   "execution_count": 17,
   "id": "b4c0e893",
   "metadata": {},
   "outputs": [
    {
     "name": "stdout",
     "output_type": "stream",
     "text": [
      "Kİtap objesi siliniyor...\n"
     ]
    }
   ],
   "source": [
    "del kitap"
   ]
  },
  {
   "cell_type": "code",
   "execution_count": null,
   "id": "772f998a",
   "metadata": {},
   "outputs": [],
   "source": []
  }
 ],
 "metadata": {
  "kernelspec": {
   "display_name": "Python 3 (ipykernel)",
   "language": "python",
   "name": "python3"
  },
  "language_info": {
   "codemirror_mode": {
    "name": "ipython",
    "version": 3
   },
   "file_extension": ".py",
   "mimetype": "text/x-python",
   "name": "python",
   "nbconvert_exporter": "python",
   "pygments_lexer": "ipython3",
   "version": "3.10.9"
  }
 },
 "nbformat": 4,
 "nbformat_minor": 5
}
